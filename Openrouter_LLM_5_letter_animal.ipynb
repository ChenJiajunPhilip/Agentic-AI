{
  "nbformat": 4,
  "nbformat_minor": 0,
  "metadata": {
    "colab": {
      "provenance": [],
      "include_colab_link": true
    },
    "kernelspec": {
      "name": "python3",
      "display_name": "Python 3"
    },
    "language_info": {
      "name": "python"
    }
  },
  "cells": [
    {
      "cell_type": "markdown",
      "metadata": {
        "id": "view-in-github",
        "colab_type": "text"
      },
      "source": [
        "<a href=\"https://colab.research.google.com/github/ChenJiajunPhilip/Agentic-AI/blob/main/Openrouter_LLM_5_letter_animal.ipynb\" target=\"_parent\"><img src=\"https://colab.research.google.com/assets/colab-badge.svg\" alt=\"Open In Colab\"/></a>"
      ]
    },
    {
      "cell_type": "markdown",
      "source": [
        "### Others"
      ],
      "metadata": {
        "id": "D5-gnj3B3W4D"
      }
    },
    {
      "cell_type": "code",
      "source": [
        "from openai import OpenAI\n",
        "from google.colab import drive\n",
        "\n",
        "# Mount Google Drive\n",
        "drive.mount('/content/drive')"
      ],
      "metadata": {
        "colab": {
          "base_uri": "https://localhost:8080/"
        },
        "id": "0FOWQ62l2a3v",
        "outputId": "07a2ca20-9cab-4004-e9e4-94c2689283f5"
      },
      "execution_count": 2,
      "outputs": [
        {
          "output_type": "stream",
          "name": "stdout",
          "text": [
            "Mounted at /content/drive\n"
          ]
        }
      ]
    },
    {
      "cell_type": "code",
      "source": [
        "questions_file_path = '/content/drive/MyDrive/ARIA/week 2/LLM_Questions.txt'\n",
        "responses_file_path = '/content/drive/MyDrive/ARIA/week 2/LLM_Responses.txt'"
      ],
      "metadata": {
        "id": "Uzo-kVybP1Oc"
      },
      "execution_count": null,
      "outputs": []
    },
    {
      "cell_type": "code",
      "source": [
        "# Read questions from LLM_Questions.txt\n",
        "questions = []\n",
        "try:\n",
        "    with open(questions_file_path, 'r') as f:\n",
        "        questions = f.readlines() #read line by line\n",
        "    print(f\"Successfully loaded {len(questions)} questions from {questions_file_path}\")\n",
        "except FileNotFoundError:\n",
        "    print(f\"Error: The file '{questions_file_path}' was not found.\")"
      ],
      "metadata": {
        "colab": {
          "base_uri": "https://localhost:8080/"
        },
        "id": "aYRZUC9QPvRz",
        "outputId": "550362c8-dac7-4fab-c82b-91ed4dfd09e4"
      },
      "execution_count": null,
      "outputs": [
        {
          "output_type": "stream",
          "name": "stdout",
          "text": [
            "Successfully loaded 3 questions from /content/drive/MyDrive/ARIA/week 2/LLM_Questions.txt\n"
          ]
        }
      ]
    },
    {
      "cell_type": "markdown",
      "source": [
        "#Main\n",
        "1. Prompt model to provide a 5 letter animal word, check that word is valid.\n",
        "2. Obtain fitness value of the word.\n",
        "3. Prompt model providing information (current suggested word with fitness value, and also the fitness function),\n",
        "4. prompt model again to provide an alternative animal word that has better fitness value.\n",
        "5. Repeat steps 2 and 3 for a desired number of iterations."
      ],
      "metadata": {
        "id": "eZ-Axw7K3kwQ"
      }
    },
    {
      "cell_type": "code",
      "source": [
        "OPENROUTER_API_KEY = \"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\" # Obtain unqiue code from your own Open Router account\n",
        "\n",
        "client = OpenAI(\n",
        "  base_url=\"https://openrouter.ai/api/v1\",\n",
        "  api_key=OPENROUTER_API_KEY,\n",
        ")"
      ],
      "metadata": {
        "id": "sDoFm1omQWDx"
      },
      "execution_count": 3,
      "outputs": []
    },
    {
      "cell_type": "code",
      "source": [
        "#with open(responses_file_path, 'w') as response_file: # each loop, 'w' will clear out conetnt from text file\n",
        "#    for i, question in enumerate(questions):\n",
        "#        question = question.strip()\n",
        "#        if not question:\n",
        "#            continue\n",
        "\n",
        "#        print(f\"\\nProcessing Question {i+1}: {question}\")\n",
        "\n",
        "# Create some function (check_response) that verifies the output is a single word string of 5 characters\n",
        "def find_fitness(s):\n",
        "  f = 0\n",
        "  if isinstance(s, str):\n",
        "    for i in s.lower():\n",
        "      f += ord(i) - ord('a') + 1\n",
        "    return f\n",
        "  else:\n",
        "    return \"N/A\"\n",
        "\n",
        "def check_response(response):\n",
        "  \"\"\"Checks if the response is a single 5-letter word.\"\"\"\n",
        "  if isinstance(response, str):\n",
        "    words = response.split()\n",
        "    #global fitness_value\n",
        "    fitness_value = 0\n",
        "    if len(words) == 1 and len(words[0]) == 5 and words[0].isalpha():\n",
        "      for i in words[0].lower():\n",
        "        fitness_value += ord(i) - ord('a') + 1\n",
        "      return fitness_value > 70\n",
        "  return False\n",
        "\n",
        "#response_content = completion.choices[0].message.content\n",
        "response_content = 0\n",
        "\n",
        "# Implement the check and retry logic\n",
        "max_retries = 10  # Set a limit for retries\n",
        "retries = 0\n",
        "while not check_response(response_content) and retries < max_retries:\n",
        "    fitness_value = find_fitness(response_content)\n",
        "    if response_content != 0:\n",
        "      print(f\"Response '{response_content}' did not meet criteria. fitness_value: {fitness_value}. Retrying...\")\n",
        "    retries += 1\n",
        "    try:\n",
        "        completion = client.chat.completions.create(\n",
        "            extra_headers={\n",
        "              \"HTTP-Referer\": \"https://colab.research.google.com\",\n",
        "              \"X-Title\": \"My Colab OpenRouter Gemini Test\",\n",
        "            },\n",
        "            model=\"nousresearch/deephermes-3-mistral-24b-preview:free\",\n",
        "            messages=[\n",
        "              {\n",
        "                \"role\": \"user\",\n",
        "                \"content\": \"provide a single 5-letter animal word, and nothing else.\" #if (retries == 0) else (\n",
        "                #\"Try using another single 5-letter word with higher values, given a=1, b=2, ... z=26, but make sure that the 5 letter word is still a valid animal word.\") # Refined prompt\n",
        "              }\n",
        "            ],\n",
        "            max_tokens=10, # Reduce max tokens as you only expect one word\n",
        "            temperature=0.7,\n",
        "            top_p=0.8,\n",
        "        )\n",
        "        response_content = completion.choices[0].message.content\n",
        "    except Exception as e:\n",
        "        print(f\"An error occurred during retry: {e}\")\n",
        "        break # Exit retry loop on error\n",
        "\n",
        "if check_response(response_content):\n",
        "    print(f\"Valid Response: {response_content}\")\n",
        "    # Proceed with writing to file or other logic\n",
        "else:\n",
        "    print(f\"Failed to get a valid 5-letter word after {max_retries} retries. Final response: {response_content}. fitness_value: {fitness_value}\")\n",
        "    # Handle the failure case (e.g., log an error, use a default word)\n",
        "\n",
        "\n",
        "\n",
        "# 1. Prompt model to provide a 5 letter animal word, check that word is valid.\n",
        "# 2. Obtain fitness value of the word.\n",
        "# 3. Prompt model providing information (current suggested word with fitness value, and also the fitness function),\n",
        "# prompt model again to provide an alternative animal word that has better fitness value.\n",
        "# Repeat steps 2 and 3 for a desired number of iterations."
      ],
      "metadata": {
        "colab": {
          "base_uri": "https://localhost:8080/"
        },
        "id": "TDMb19FdQN4w",
        "outputId": "72c0ba3f-0b69-4b29-c6e3-feb58de772e2"
      },
      "execution_count": 4,
      "outputs": [
        {
          "output_type": "stream",
          "name": "stdout",
          "text": [
            "An error occurred during retry: Error code: 429 - {'error': {'message': 'Rate limit exceeded: free-models-per-day. Add 10 credits to unlock 1000 free model requests per day', 'code': 429, 'metadata': {'headers': {'X-RateLimit-Limit': '50', 'X-RateLimit-Remaining': '0', 'X-RateLimit-Reset': '1747958400000'}, 'provider_name': None}}, 'user_id': 'user_2x6uT7hWZv1MjIgEIepjnNrdlpG'}\n",
            "Failed to get a valid 5-letter word after 10 retries. Final response: 0. fitness_value: N/A\n"
          ]
        }
      ]
    }
  ]
}